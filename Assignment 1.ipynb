{
 "cells": [
  {
   "cell_type": "code",
   "execution_count": 1,
   "metadata": {},
   "outputs": [
    {
     "name": "stdout",
     "output_type": "stream",
     "text": [
      "2030,2065,2100,2135,2170,2205,2240,2275,2310,2345,2380,2415,2450,2485,2520,2555,2590,2625,2660,2695,2730,2765,2800,2835,2870,2905,2940,2975,3010,3045,3080,3115,3150,3185\n"
     ]
    }
   ],
   "source": [
    "#1. Write a program which will find all such numbers which are divisible by 7 but are not a multiple of 5, between 2000 and 3200 (both included). The numbers obtained should be printed in a comma-separated sequence on a single line.\n",
    "\n",
    "A=[]\n",
    "for x in range(2000, 3200):\n",
    "    if (x%7==0) and (x%5==0):\n",
    "        A.append(str(x))\n",
    "print (','.join(A))\n"
   ]
  },
  {
   "cell_type": "code",
   "execution_count": 2,
   "metadata": {},
   "outputs": [
    {
     "name": "stdout",
     "output_type": "stream",
     "text": [
      "Enter your Name :Akshay\n",
      "Enter your Last Name :Nakhale\n",
      "Nakhale Akshay\n"
     ]
    }
   ],
   "source": [
    "#2. Write a Python program to accept the user's first and last name and then getting them printed in the the reverse order with a space between first name and last name.\n",
    "\n",
    "Name=input(\"Enter your Name :\")\n",
    "Last_Name=input(\"Enter your Last Name :\")\n",
    "print(Last_Name, Name)"
   ]
  },
  {
   "cell_type": "code",
   "execution_count": 3,
   "metadata": {},
   "outputs": [
    {
     "name": "stdout",
     "output_type": "stream",
     "text": [
      "Enter your Radius of sphere :0\n",
      "Enter your Diameter of sphere :12\n",
      "Volume Of Sphere :  904.752\n"
     ]
    }
   ],
   "source": [
    "#3. Write a Python program to find the volume of a sphere with diameter 12 cm.(Formula: V=4/3 * π * r3)\n",
    "#Keep given value of in the problem of Radius or Diameter and keep othe value of Radius or Diameter is Zero \"0\"\n",
    "#Suppose the value of Radius is given keep The value of Radius as it is and keep the vale of diameter is zero \"0\"\n",
    "\n",
    "Radius=int(input(\"Enter your Radius of sphere :\", ))\n",
    "Diameter=int(input(\"Enter your Diameter of sphere :\", ))\n",
    "Rad=Diameter/2\n",
    "if(Radius!=0 and Rad==0 and Radius>0):\n",
    "    print(\"Volume Of Sphere : \",(4/3)*3.1415*(Radius**3))\n",
    "elif(Rad!=0 and Radius==0 and Rad>0):\n",
    "    print(\"Volume Of Sphere : \",(4/3)*3.1415*(Rad**3))"
   ]
  },
  {
   "cell_type": "code",
   "execution_count": null,
   "metadata": {},
   "outputs": [],
   "source": []
  }
 ],
 "metadata": {
  "kernelspec": {
   "display_name": "Python 3",
   "language": "python",
   "name": "python3"
  },
  "language_info": {
   "codemirror_mode": {
    "name": "ipython",
    "version": 3
   },
   "file_extension": ".py",
   "mimetype": "text/x-python",
   "name": "python",
   "nbconvert_exporter": "python",
   "pygments_lexer": "ipython3",
   "version": "3.7.3"
  }
 },
 "nbformat": 4,
 "nbformat_minor": 2
}
